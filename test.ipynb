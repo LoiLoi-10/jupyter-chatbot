{
 "cells": [
  {
   "cell_type": "code",
   "execution_count": null,
   "id": "d2cd4883",
   "metadata": {},
   "outputs": [],
   "source": [
    "# (Markdown): # Sales Report 2023"
   ]
  },
  {
   "cell_type": "code",
   "execution_count": null,
   "id": "55641d01",
   "metadata": {},
   "outputs": [],
   "source": [
    "total_sales = 150000"
   ]
  },
  {
   "cell_type": "code",
   "execution_count": null,
   "id": "728094db",
   "metadata": {},
   "outputs": [],
   "source": [
    "average_order = 250"
   ]
  },
  {
   "cell_type": "code",
   "execution_count": null,
   "id": "4c1c72a8",
   "metadata": {},
   "outputs": [],
   "source": [
    "# Key takeaway: 15% growth from 2022\n",
    "# Key takeaway: Customer satisfaction is at an all-time high\n",
    "# Key takeaway: New product line contributed significantly to sales\n",
    "# Key takeaway: Online sales increased by 30%\n",
    "# Key takeaway: Marketing campaigns were highly effective\n",
    "# Key takeaway: Employee performance improved with new training programs\n"
   ]
  },
  {
   "cell_type": "markdown",
   "id": "e6f7287f",
   "metadata": {},
   "source": [
    " Hello, how are you?"
   ]
  }
 ],
 "metadata": {
  "kernelspec": {
   "display_name": "Python 3",
   "language": "python",
   "name": "python3"
  },
  "language_info": {
   "name": "python",
   "version": "3.11.9"
  }
 },
 "nbformat": 4,
 "nbformat_minor": 5
}
