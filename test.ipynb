{
 "cells": [
  {
   "cell_type": "code",
   "execution_count": null,
   "id": "d2cd4883",
   "metadata": {},
   "outputs": [],
   "source": [
    "# (Markdown): # Sales Report 2023\n",
    "\n",
    "print(\"Hello World\")"
   ]
  },
  {
   "cell_type": "code",
   "execution_count": null,
   "id": "4e2910dd",
   "metadata": {},
   "outputs": [],
   "source": [
    "print(\"This is a sales report for the year 2023.\")"
   ]
  },
  {
   "cell_type": "code",
   "execution_count": null,
   "id": "55641d01",
   "metadata": {},
   "outputs": [],
   "source": [
    "total_sales = 150000"
   ]
  },
  {
   "cell_type": "code",
   "execution_count": 4,
   "id": "728094db",
   "metadata": {},
   "outputs": [
    {
     "ename": "NameError",
     "evalue": "name 'total_sales' is not defined",
     "output_type": "error",
     "traceback": [
      "\u001b[31m---------------------------------------------------------------------------\u001b[39m",
      "\u001b[31mNameError\u001b[39m                                 Traceback (most recent call last)",
      "\u001b[36mCell\u001b[39m\u001b[36m \u001b[39m\u001b[32mIn[4]\u001b[39m\u001b[32m, line 2\u001b[39m\n\u001b[32m      1\u001b[39m average_order = \u001b[32m250\u001b[39m\n\u001b[32m----> \u001b[39m\u001b[32m2\u001b[39m \u001b[38;5;28mprint\u001b[39m(\u001b[33mf\u001b[39m\u001b[33m\"\u001b[39m\u001b[33mTotal Sales: $\u001b[39m\u001b[38;5;132;01m{\u001b[39;00m\u001b[43mtotal_sales\u001b[49m\u001b[38;5;132;01m}\u001b[39;00m\u001b[33m\"\u001b[39m)\n",
      "\u001b[31mNameError\u001b[39m: name 'total_sales' is not defined"
     ]
    }
   ],
   "source": [
    "average_order = 250\n",
    "print(f\"Total Sales: ${total_sales}\")"
   ]
  },
  {
   "cell_type": "code",
   "execution_count": null,
   "id": "4c1c72a8",
   "metadata": {},
   "outputs": [],
   "source": [
    "# Key takeaway: 15% growth from 2022\n",
    "# Key takeaway: Customer satisfaction is at an all-time high\n",
    "# Key takeaway: New product line contributed significantly to sales\n",
    "# Key takeaway: Online sales increased by 30%\n",
    "# Key takeaway: Marketing campaigns were highly effective\n",
    "\n"
   ]
  },
  {
   "cell_type": "markdown",
   "id": "e6f7287f",
   "metadata": {},
   "source": [
    " Hello, how are you?"
   ]
  }
 ],
 "metadata": {
  "kernelspec": {
   "display_name": "Python 3",
   "language": "python",
   "name": "python3"
  },
  "language_info": {
   "codemirror_mode": {
    "name": "ipython",
    "version": 3
   },
   "file_extension": ".py",
   "mimetype": "text/x-python",
   "name": "python",
   "nbconvert_exporter": "python",
   "pygments_lexer": "ipython3",
   "version": "3.11.9"
  }
 },
 "nbformat": 4,
 "nbformat_minor": 5
}
