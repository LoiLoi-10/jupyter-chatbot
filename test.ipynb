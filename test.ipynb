{
 "cells": [
  {
   "cell_type": "code",
   "execution_count": null,
   "id": "d2cd4883",
   "metadata": {},
   "outputs": [],
   "source": [
    "#Cell 1 (Markdown): # Sales Report 2023"
   ]
  },
  {
   "cell_type": "code",
   "execution_count": null,
   "id": "55641d01",
   "metadata": {},
   "outputs": [],
   "source": [
    "total_sales = 150000"
   ]
  },
  {
   "cell_type": "code",
   "execution_count": null,
   "id": "728094db",
   "metadata": {},
   "outputs": [],
   "source": [
    "average_order = 250"
   ]
  },
  {
   "cell_type": "code",
   "execution_count": null,
   "id": "4c1c72a8",
   "metadata": {},
   "outputs": [],
   "source": [
    " # Cell 4 (Markdown): Key takeaway: 15% growth from 2022"
   ]
  }
 ],
 "metadata": {
  "kernelspec": {
   "display_name": "Python 3",
   "language": "python",
   "name": "python3"
  },
  "language_info": {
   "name": "python",
   "version": "3.11.9"
  }
 },
 "nbformat": 4,
 "nbformat_minor": 5
}
